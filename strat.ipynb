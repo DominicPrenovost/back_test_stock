{
 "cells": [
  {
   "cell_type": "code",
   "execution_count": 1,
   "metadata": {},
   "outputs": [],
   "source": [
    "import yfinance as yf\n",
    "import pandas as pd\n",
    "import numpy as np\n",
    "import matplotlib.pyplot as plt"
   ]
  },
  {
   "cell_type": "code",
   "execution_count": 2,
   "metadata": {},
   "outputs": [],
   "source": [
    "# Capital de départ\n",
    "initial_capital = 100_000\n",
    "\n",
    "# Proportions\n",
    "portion_buy_and_hold = 2/3\n",
    "portion_trading = 1/3\n",
    "\n",
    "# Répartition B&H\n",
    "ratio_voo = 0.75   # 75% dans VOO\n",
    "ratio_qqq = 0.25   # 25% dans QQQ\n",
    "\n",
    "# Watchlist pour la partie court terme\n",
    "watchlist = [\"AAPL\", \"TSLA\", \"MSFT\", \"AMZN\", \"GOOGL\", \"META\"]  # exemple\n",
    "\n",
    "start_date = \"2020-01-01\"\n",
    "end_date   = \"2023-01-01\"\n",
    "\n",
    "# Paramètres de la stratégie court terme\n",
    "daily_drop_threshold = -0.02   # -2%\n",
    "stop_loss_pct = 0.01          # 1% stop loss\n",
    "trailing_stop_pct = 0.01      # 1% trailing stop"
   ]
  },
  {
   "cell_type": "code",
   "execution_count": 4,
   "metadata": {},
   "outputs": [
    {
     "name": "stdout",
     "output_type": "stream",
     "text": [
      "[*********************100%%**********************]  1 of 1 completed"
     ]
    },
    {
     "name": "stderr",
     "output_type": "stream",
     "text": [
      "/Users/dominicprenovost/anaconda3/envs/HECFinance/lib/python3.11/site-packages/yfinance/utils.py:771: FutureWarning: The 'unit' keyword in TimedeltaIndex construction is deprecated and will be removed in a future version. Use pd.to_timedelta instead.\n",
      "  df.index += _pd.TimedeltaIndex(dst_error_hours, 'h')\n"
     ]
    },
    {
     "name": "stdout",
     "output_type": "stream",
     "text": [
      "\n",
      "[*********************100%%**********************]  1 of 1 completed\n"
     ]
    },
    {
     "name": "stderr",
     "output_type": "stream",
     "text": [
      "/Users/dominicprenovost/anaconda3/envs/HECFinance/lib/python3.11/site-packages/yfinance/utils.py:771: FutureWarning: The 'unit' keyword in TimedeltaIndex construction is deprecated and will be removed in a future version. Use pd.to_timedelta instead.\n",
      "  df.index += _pd.TimedeltaIndex(dst_error_hours, 'h')\n"
     ]
    }
   ],
   "source": [
    "df_voo = yf.download(\"VOO\", start=start_date, end=end_date)\n",
    "df_qqq = yf.download(\"QQQ\", start=start_date, end=end_date)\n",
    "\n",
    "# Gardons seulement Adj Close pour simplifier\n",
    "df_voo = df_voo[[\"Adj Close\"]].rename(columns={\"Adj Close\": \"VOO\"})\n",
    "df_qqq = df_qqq[[\"Adj Close\"]].rename(columns={\"Adj Close\": \"QQQ\"})"
   ]
  },
  {
   "cell_type": "code",
   "execution_count": 5,
   "metadata": {},
   "outputs": [],
   "source": [
    "df_bnh = df_voo.join(df_qqq, how=\"inner\")  # DataFrame Buy & Hold\n",
    "df_bnh.dropna(inplace=True)  # on enlève les dates incomplètes"
   ]
  },
  {
   "cell_type": "code",
   "execution_count": 6,
   "metadata": {},
   "outputs": [
    {
     "name": "stdout",
     "output_type": "stream",
     "text": [
      "[*********************100%%**********************]  1 of 1 completed"
     ]
    },
    {
     "name": "stderr",
     "output_type": "stream",
     "text": [
      "/Users/dominicprenovost/anaconda3/envs/HECFinance/lib/python3.11/site-packages/yfinance/utils.py:771: FutureWarning: The 'unit' keyword in TimedeltaIndex construction is deprecated and will be removed in a future version. Use pd.to_timedelta instead.\n",
      "  df.index += _pd.TimedeltaIndex(dst_error_hours, 'h')\n"
     ]
    },
    {
     "name": "stdout",
     "output_type": "stream",
     "text": [
      "\n",
      "[*********************100%%**********************]  1 of 1 completed"
     ]
    },
    {
     "name": "stderr",
     "output_type": "stream",
     "text": [
      "/Users/dominicprenovost/anaconda3/envs/HECFinance/lib/python3.11/site-packages/yfinance/utils.py:771: FutureWarning: The 'unit' keyword in TimedeltaIndex construction is deprecated and will be removed in a future version. Use pd.to_timedelta instead.\n",
      "  df.index += _pd.TimedeltaIndex(dst_error_hours, 'h')\n"
     ]
    },
    {
     "name": "stdout",
     "output_type": "stream",
     "text": [
      "\n",
      "[*********************100%%**********************]  1 of 1 completed\n",
      "[*********************100%%**********************]  1 of 1 completed"
     ]
    },
    {
     "name": "stderr",
     "output_type": "stream",
     "text": [
      "/Users/dominicprenovost/anaconda3/envs/HECFinance/lib/python3.11/site-packages/yfinance/utils.py:771: FutureWarning: The 'unit' keyword in TimedeltaIndex construction is deprecated and will be removed in a future version. Use pd.to_timedelta instead.\n",
      "  df.index += _pd.TimedeltaIndex(dst_error_hours, 'h')\n",
      "/Users/dominicprenovost/anaconda3/envs/HECFinance/lib/python3.11/site-packages/yfinance/utils.py:771: FutureWarning: The 'unit' keyword in TimedeltaIndex construction is deprecated and will be removed in a future version. Use pd.to_timedelta instead.\n",
      "  df.index += _pd.TimedeltaIndex(dst_error_hours, 'h')\n"
     ]
    },
    {
     "name": "stdout",
     "output_type": "stream",
     "text": [
      "\n",
      "[*********************100%%**********************]  1 of 1 completed\n"
     ]
    },
    {
     "name": "stderr",
     "output_type": "stream",
     "text": [
      "/Users/dominicprenovost/anaconda3/envs/HECFinance/lib/python3.11/site-packages/yfinance/utils.py:771: FutureWarning: The 'unit' keyword in TimedeltaIndex construction is deprecated and will be removed in a future version. Use pd.to_timedelta instead.\n",
      "  df.index += _pd.TimedeltaIndex(dst_error_hours, 'h')\n",
      "/Users/dominicprenovost/anaconda3/envs/HECFinance/lib/python3.11/site-packages/yfinance/utils.py:771: FutureWarning: The 'unit' keyword in TimedeltaIndex construction is deprecated and will be removed in a future version. Use pd.to_timedelta instead.\n",
      "  df.index += _pd.TimedeltaIndex(dst_error_hours, 'h')\n"
     ]
    },
    {
     "name": "stdout",
     "output_type": "stream",
     "text": [
      "[*********************100%%**********************]  1 of 1 completed\n"
     ]
    }
   ],
   "source": [
    "data = {}\n",
    "for ticker in watchlist:\n",
    "    df_tmp = yf.download(ticker, start=start_date, end=end_date)\n",
    "    data[ticker] = df_tmp[\"Adj Close\"]\n",
    "\n",
    "# On construit un DataFrame unique\n",
    "df_watchlist = pd.DataFrame(data)\n",
    "df_watchlist.dropna(inplace=True)"
   ]
  },
  {
   "cell_type": "code",
   "execution_count": 7,
   "metadata": {},
   "outputs": [],
   "source": [
    "capital_BH = initial_capital * portion_buy_and_hold\n",
    "\n",
    "first_date = df_bnh.index[0]\n",
    "price_voo_init = df_bnh.loc[first_date, \"VOO\"]\n",
    "price_qqq_init = df_bnh.loc[first_date, \"QQQ\"]\n",
    "\n",
    "voo_invest = capital_BH * ratio_voo  # 75% de capital_BH\n",
    "qqq_invest = capital_BH * ratio_qqq  # 25% de capital_BH\n",
    "\n",
    "# Nombre de parts achetées (floors pour simplifier)\n",
    "units_voo = np.floor(voo_invest / price_voo_init)\n",
    "units_qqq = np.floor(qqq_invest / price_qqq_init)"
   ]
  },
  {
   "cell_type": "code",
   "execution_count": 8,
   "metadata": {},
   "outputs": [],
   "source": [
    "df_bnh[\"Value_BH\"] = (units_voo * df_bnh[\"VOO\"]) + (units_qqq * df_bnh[\"QQQ\"])"
   ]
  },
  {
   "cell_type": "code",
   "execution_count": 9,
   "metadata": {},
   "outputs": [],
   "source": [
    "capital_trading = initial_capital * portion_trading"
   ]
  },
  {
   "cell_type": "code",
   "execution_count": 10,
   "metadata": {},
   "outputs": [],
   "source": [
    "positions = {\n",
    "    ticker: {\n",
    "        \"is_in\": False,\n",
    "        \"entry_price\": 0.0,\n",
    "        \"stop_loss\": 0.0,\n",
    "        \"trailing_stop\": 0.0,\n",
    "        \"shares\": 0\n",
    "    }\n",
    "    for ticker in watchlist\n",
    "}"
   ]
  },
  {
   "cell_type": "code",
   "execution_count": 11,
   "metadata": {},
   "outputs": [],
   "source": [
    "dates = df_watchlist.index\n",
    "# Pour stocker l'évolution du capital short-term\n",
    "capital_series = []\n",
    "\n",
    "for i in range(2, len(dates)):\n",
    "    today = dates[i]\n",
    "    yesterday = dates[i-1]\n",
    "    day_before_yesterday = dates[i-2]\n",
    "\n",
    "    # ---- 1) On met à jour la valeur de chaque position existante\n",
    "    # (on regarde le cours de 'yesterday' pour voir si un stop est déclenché)\n",
    "    for ticker in watchlist:\n",
    "        if positions[ticker][\"is_in\"]:\n",
    "            # prix de clôture\n",
    "            price_yest = df_watchlist.loc[yesterday, ticker]\n",
    "            # Mise à jour du trailing stop si on est monté plus haut\n",
    "            highest_price_since_entry = max(price_yest, positions[ticker][\"entry_price\"])\n",
    "            # on suppose un trailing stop = 1% sous le plus haut\n",
    "            # (Dans la réalité, on le met à jour jour après jour s'il y a un nouveau plus haut)\n",
    "            new_trailing_stop = highest_price_since_entry * (1 - trailing_stop_pct)\n",
    "            \n",
    "            # On garde le max entre le stop_loss fixe et le trailing stop\n",
    "            positions[ticker][\"stop_loss\"] = max(\n",
    "                positions[ticker][\"stop_loss\"],\n",
    "                new_trailing_stop\n",
    "            )\n",
    "            \n",
    "            # Vérifier si on est passé sous le stop hier\n",
    "            if price_yest < positions[ticker][\"stop_loss\"]:\n",
    "                # On sort de la position\n",
    "                # on considère qu'on vend au \"stop_loss\" (simplification daily)\n",
    "                exit_price = positions[ticker][\"stop_loss\"]\n",
    "                shares = positions[ticker][\"shares\"]\n",
    "                capital_trading += exit_price * shares  # On récupère le cash\n",
    "                # Remettre la structure à zéro\n",
    "                positions[ticker][\"is_in\"] = False\n",
    "                positions[ticker][\"entry_price\"] = 0.0\n",
    "                positions[ticker][\"stop_loss\"] = 0.0\n",
    "                positions[ticker][\"shares\"] = 0\n",
    "\n",
    "    # ---- 2) Repérer les nouveaux signaux d'achat\n",
    "    # Variation (t-1) vs (t-2)\n",
    "    # On veut : (Close(yesterday) - Close(day_before_yesterday))/Close(day_before_yesterday) <= -2%\n",
    "    drop_tickers = []\n",
    "    for ticker in watchlist:\n",
    "        ret = (df_watchlist.loc[yesterday, ticker] / df_watchlist.loc[day_before_yesterday, ticker]) - 1\n",
    "        if ret <= daily_drop_threshold:\n",
    "            drop_tickers.append(ticker)\n",
    "\n",
    "    # ---- 3) Exécuter les achats pour les tickers signalés\n",
    "    # On répartit le capital_trading dispo équitablement\n",
    "    if len(drop_tickers) > 0:\n",
    "        alloc_per_ticker = capital_trading / len(drop_tickers)\n",
    "        for ticker in drop_tickers:\n",
    "            # N'achetez que si on n'a pas déjà une position ouverte\n",
    "            if positions[ticker][\"is_in\"] == False:\n",
    "                price_to_buy = df_watchlist.loc[yesterday, ticker]  # simplification\n",
    "                # calcul du nombre d'actions\n",
    "                shares = np.floor(alloc_per_ticker / price_to_buy)\n",
    "                if shares > 0:\n",
    "                    cost = shares * price_to_buy\n",
    "                    # MàJ capital\n",
    "                    capital_trading -= cost\n",
    "                    # MàJ position\n",
    "                    positions[ticker][\"is_in\"] = True\n",
    "                    positions[ticker][\"entry_price\"] = price_to_buy\n",
    "                    positions[ticker][\"stop_loss\"] = price_to_buy * (1 - stop_loss_pct)\n",
    "                    positions[ticker][\"shares\"] = shares\n",
    "                    # On initialise trailing_stop = stop_loss (pour commencer)\n",
    "                    positions[ticker][\"trailing_stop\"] = positions[ticker][\"stop_loss\"]\n",
    "\n",
    "    # ---- 4) Calculer la valeur latente des positions au jour 'yesterday'\n",
    "    # (on considère la clôture d'hier comme la valeur du portefeuille à la fin de la journée)\n",
    "    portfolio_value = capital_trading  # cash non investi\n",
    "    for ticker in watchlist:\n",
    "        if positions[ticker][\"is_in\"]:\n",
    "            price_yest = df_watchlist.loc[yesterday, ticker]\n",
    "            shares = positions[ticker][\"shares\"]\n",
    "            portfolio_value += price_yest * shares\n",
    "\n",
    "    # On stocke l'évolution journalière\n",
    "    capital_series.append((yesterday, portfolio_value))\n",
    "\n",
    "# Conversion de la liste en DataFrame\n",
    "df_trading = pd.DataFrame(capital_series, columns=[\"Date\", \"Value_Trading\"]).set_index(\"Date\")"
   ]
  },
  {
   "cell_type": "code",
   "execution_count": 13,
   "metadata": {},
   "outputs": [],
   "source": [
    "# Joindre sur l'index de dates\n",
    "df_total = df_bnh[[\"Value_BH\"]].join(df_trading[[\"Value_Trading\"]], how=\"outer\")\n",
    "\n",
    "# Interpolation/forward fill si besoin\n",
    "df_total.ffill(inplace=True)\n",
    "\n",
    "# Valeur totale du portefeuille\n",
    "df_total[\"Total_Portfolio\"] = df_total[\"Value_BH\"] + df_total[\"Value_Trading\"]\n",
    "\n",
    "# On peut calculer les rendements\n",
    "df_total[\"Return\"] = df_total[\"Total_Portfolio\"].pct_change()\n",
    "df_total[\"CumReturn\"] = (1 + df_total[\"Return\"]).cumprod() * initial_capital"
   ]
  },
  {
   "cell_type": "code",
   "execution_count": 14,
   "metadata": {},
   "outputs": [
    {
     "name": "stdout",
     "output_type": "stream",
     "text": [
      "Valeur finale du portefeuille : 4,063,033.95 $\n",
      "Performance totale : 3963.03 %\n",
      "Max Drawdown : -15.05 %\n",
      "Sharpe ratio approx : 4.93\n"
     ]
    },
    {
     "data": {
      "image/png": "[encoded data removed]",
      "text/plain": [
       "<Figure size 1200x600 with 1 Axes>"
      ]
     },
     "metadata": {},
     "output_type": "display_data"
    }
   ],
   "source": [
    "final_value = df_total[\"Total_Portfolio\"].iloc[-1]\n",
    "total_return_pct = (final_value - initial_capital) / initial_capital * 100\n",
    "\n",
    "print(f\"Valeur finale du portefeuille : {final_value:,.2f} $\")\n",
    "print(f\"Performance totale : {total_return_pct:.2f} %\")\n",
    "\n",
    "# Maximum drawdown\n",
    "df_total[\"RollMax\"] = df_total[\"Total_Portfolio\"].cummax()\n",
    "df_total[\"Drawdown\"] = (df_total[\"Total_Portfolio\"] - df_total[\"RollMax\"]) / df_total[\"RollMax\"]\n",
    "mdd = df_total[\"Drawdown\"].min() * 100\n",
    "print(f\"Max Drawdown : {mdd:.2f} %\")\n",
    "\n",
    "# Sharpe ratio (approx, sans taux sans risque, sur base 252 jours)\n",
    "daily_mean = df_total[\"Return\"].mean()\n",
    "daily_std  = df_total[\"Return\"].std()\n",
    "sharpe = (daily_mean / daily_std) * np.sqrt(252)\n",
    "print(f\"Sharpe ratio approx : {sharpe:.2f}\")\n",
    "\n",
    "# Plot\n",
    "df_total[[\"Value_BH\", \"Value_Trading\", \"Total_Portfolio\"]].plot(figsize=(12,6))\n",
    "plt.title(\"Évolution du portefeuille (B&H + Trading Court Terme)\")\n",
    "plt.xlabel(\"Date\")\n",
    "plt.ylabel(\"Valeur ($)\")\n",
    "plt.show()"
   ]
  },
  {
   "cell_type": "code",
   "execution_count": 16,
   "metadata": {},
   "outputs": [
    {
     "data": {
      "text/html": [
       "<div>\n",
       "<style scoped>\n",
       "    .dataframe tbody tr th:only-of-type {\n",
       "        vertical-align: middle;\n",
       "    }\n",
       "\n",
       "    .dataframe tbody tr th {\n",
       "        vertical-align: top;\n",
       "    }\n",
       "\n",
       "    .dataframe thead th {\n",
       "        text-align: right;\n",
       "    }\n",
       "</style>\n",
       "<table border=\"1\" class=\"dataframe\">\n",
       "  <thead>\n",
       "    <tr style=\"text-align: right;\">\n",
       "      <th></th>\n",
       "      <th>Value_BH</th>\n",
       "      <th>Value_Trading</th>\n",
       "      <th>Total_Portfolio</th>\n",
       "      <th>Return</th>\n",
       "      <th>CumReturn</th>\n",
       "      <th>RollMax</th>\n",
       "      <th>Drawdown</th>\n",
       "    </tr>\n",
       "    <tr>\n",
       "      <th>Date</th>\n",
       "      <th></th>\n",
       "      <th></th>\n",
       "      <th></th>\n",
       "      <th></th>\n",
       "      <th></th>\n",
       "      <th></th>\n",
       "      <th></th>\n",
       "    </tr>\n",
       "  </thead>\n",
       "  <tbody>\n",
       "    <tr>\n",
       "      <th>2020-01-02</th>\n",
       "      <td>66538.302948</td>\n",
       "      <td>NaN</td>\n",
       "      <td>NaN</td>\n",
       "      <td>NaN</td>\n",
       "      <td>NaN</td>\n",
       "      <td>NaN</td>\n",
       "      <td>NaN</td>\n",
       "    </tr>\n",
       "    <tr>\n",
       "      <th>2020-01-03</th>\n",
       "      <td>66021.505722</td>\n",
       "      <td>3.333333e+04</td>\n",
       "      <td>9.935484e+04</td>\n",
       "      <td>NaN</td>\n",
       "      <td>NaN</td>\n",
       "      <td>9.935484e+04</td>\n",
       "      <td>0.000000</td>\n",
       "    </tr>\n",
       "    <tr>\n",
       "      <th>2020-01-06</th>\n",
       "      <td>66313.141479</td>\n",
       "      <td>3.333333e+04</td>\n",
       "      <td>9.964647e+04</td>\n",
       "      <td>0.002935</td>\n",
       "      <td>1.002935e+05</td>\n",
       "      <td>9.964647e+04</td>\n",
       "      <td>0.000000</td>\n",
       "    </tr>\n",
       "    <tr>\n",
       "      <th>2020-01-07</th>\n",
       "      <td>66173.511017</td>\n",
       "      <td>3.333333e+04</td>\n",
       "      <td>9.950684e+04</td>\n",
       "      <td>-0.001401</td>\n",
       "      <td>1.001530e+05</td>\n",
       "      <td>9.964647e+04</td>\n",
       "      <td>-0.001401</td>\n",
       "    </tr>\n",
       "    <tr>\n",
       "      <th>2020-01-08</th>\n",
       "      <td>66553.867661</td>\n",
       "      <td>3.333333e+04</td>\n",
       "      <td>9.988720e+04</td>\n",
       "      <td>0.003822</td>\n",
       "      <td>1.005358e+05</td>\n",
       "      <td>9.988720e+04</td>\n",
       "      <td>0.000000</td>\n",
       "    </tr>\n",
       "    <tr>\n",
       "      <th>...</th>\n",
       "      <td>...</td>\n",
       "      <td>...</td>\n",
       "      <td>...</td>\n",
       "      <td>...</td>\n",
       "      <td>...</td>\n",
       "      <td>...</td>\n",
       "      <td>...</td>\n",
       "    </tr>\n",
       "    <tr>\n",
       "      <th>2022-12-23</th>\n",
       "      <td>82719.240143</td>\n",
       "      <td>3.845357e+06</td>\n",
       "      <td>3.928076e+06</td>\n",
       "      <td>0.005239</td>\n",
       "      <td>3.953583e+06</td>\n",
       "      <td>4.079563e+06</td>\n",
       "      <td>-0.037133</td>\n",
       "    </tr>\n",
       "    <tr>\n",
       "      <th>2022-12-27</th>\n",
       "      <td>82178.278320</td>\n",
       "      <td>3.816747e+06</td>\n",
       "      <td>3.898925e+06</td>\n",
       "      <td>-0.007421</td>\n",
       "      <td>3.924243e+06</td>\n",
       "      <td>4.079563e+06</td>\n",
       "      <td>-0.044279</td>\n",
       "    </tr>\n",
       "    <tr>\n",
       "      <th>2022-12-28</th>\n",
       "      <td>81150.828644</td>\n",
       "      <td>3.826091e+06</td>\n",
       "      <td>3.907242e+06</td>\n",
       "      <td>0.002133</td>\n",
       "      <td>3.932614e+06</td>\n",
       "      <td>4.079563e+06</td>\n",
       "      <td>-0.042240</td>\n",
       "    </tr>\n",
       "    <tr>\n",
       "      <th>2022-12-29</th>\n",
       "      <td>82724.857483</td>\n",
       "      <td>3.980492e+06</td>\n",
       "      <td>4.063217e+06</td>\n",
       "      <td>0.039919</td>\n",
       "      <td>4.089601e+06</td>\n",
       "      <td>4.079563e+06</td>\n",
       "      <td>-0.004007</td>\n",
       "    </tr>\n",
       "    <tr>\n",
       "      <th>2022-12-30</th>\n",
       "      <td>82541.831940</td>\n",
       "      <td>3.980492e+06</td>\n",
       "      <td>4.063034e+06</td>\n",
       "      <td>-0.000045</td>\n",
       "      <td>4.089417e+06</td>\n",
       "      <td>4.079563e+06</td>\n",
       "      <td>-0.004052</td>\n",
       "    </tr>\n",
       "  </tbody>\n",
       "</table>\n",
       "<p>756 rows × 7 columns</p>\n",
       "</div>"
      ],
      "text/plain": [
       "                Value_BH  Value_Trading  Total_Portfolio    Return  \\\n",
       "Date                                                                 \n",
       "2020-01-02  66538.302948            NaN              NaN       NaN   \n",
       "2020-01-03  66021.505722   3.333333e+04     9.935484e+04       NaN   \n",
       "2020-01-06  66313.141479   3.333333e+04     9.964647e+04  0.002935   \n",
       "2020-01-07  66173.511017   3.333333e+04     9.950684e+04 -0.001401   \n",
       "2020-01-08  66553.867661   3.333333e+04     9.988720e+04  0.003822   \n",
       "...                  ...            ...              ...       ...   \n",
       "2022-12-23  82719.240143   3.845357e+06     3.928076e+06  0.005239   \n",
       "2022-12-27  82178.278320   3.816747e+06     3.898925e+06 -0.007421   \n",
       "2022-12-28  81150.828644   3.826091e+06     3.907242e+06  0.002133   \n",
       "2022-12-29  82724.857483   3.980492e+06     4.063217e+06  0.039919   \n",
       "2022-12-30  82541.831940   3.980492e+06     4.063034e+06 -0.000045   \n",
       "\n",
       "               CumReturn       RollMax  Drawdown  \n",
       "Date                                              \n",
       "2020-01-02           NaN           NaN       NaN  \n",
       "2020-01-03           NaN  9.935484e+04  0.000000  \n",
       "2020-01-06  1.002935e+05  9.964647e+04  0.000000  \n",
       "2020-01-07  1.001530e+05  9.964647e+04 -0.001401  \n",
       "2020-01-08  1.005358e+05  9.988720e+04  0.000000  \n",
       "...                  ...           ...       ...  \n",
       "2022-12-23  3.953583e+06  4.079563e+06 -0.037133  \n",
       "2022-12-27  3.924243e+06  4.079563e+06 -0.044279  \n",
       "2022-12-28  3.932614e+06  4.079563e+06 -0.042240  \n",
       "2022-12-29  4.089601e+06  4.079563e+06 -0.004007  \n",
       "2022-12-30  4.089417e+06  4.079563e+06 -0.004052  \n",
       "\n",
       "[756 rows x 7 columns]"
      ]
     },
     "execution_count": 16,
     "metadata": {},
     "output_type": "execute_result"
    }
   ],
   "source": [
    "df_total"
   ]
  },
  {
   "cell_type": "code",
   "execution_count": 18,
   "metadata": {},
   "outputs": [
    {
     "data": {
      "text/plain": [
       "Date\n",
       "2020-01-02             NaN\n",
       "2020-01-03    3.333333e+04\n",
       "2020-01-06    3.333333e+04\n",
       "2020-01-07    3.333333e+04\n",
       "2020-01-08    3.333333e+04\n",
       "                  ...     \n",
       "2022-12-23    3.845357e+06\n",
       "2022-12-27    3.816747e+06\n",
       "2022-12-28    3.826091e+06\n",
       "2022-12-29    3.980492e+06\n",
       "2022-12-30    3.980492e+06\n",
       "Name: Value_Trading, Length: 756, dtype: float64"
      ]
     },
     "execution_count": 18,
     "metadata": {},
     "output_type": "execute_result"
    }
   ],
   "source": [
    "df_total[\"Value_Trading\"]"
   ]
  },
  {
   "cell_type": "code",
   "execution_count": null,
   "metadata": {},
   "outputs": [],
   "source": []
  }
 ],
 "metadata": {
  "kernelspec": {
   "display_name": "HECFinance",
   "language": "python",
   "name": "python3"
  },
  "language_info": {
   "codemirror_mode": {
    "name": "ipython",
    "version": 3
   },
   "file_extension": ".py",
   "mimetype": "text/x-python",
   "name": "python",
   "nbconvert_exporter": "python",
   "pygments_lexer": "ipython3",
   "version": "3.11.4"
  }
 },
 "nbformat": 4,
 "nbformat_minor": 2
}
